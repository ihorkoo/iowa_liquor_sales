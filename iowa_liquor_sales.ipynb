{
 "cells": [
  {
   "cell_type": "markdown",
   "metadata": {},
   "source": [
    "### iowa_liquor_sales"
   ]
  },
  {
   "cell_type": "markdown",
   "metadata": {},
   "source": [
    "`pip install google-cloud-bigquery-storage`\n",
    "\n",
    "`pip install google-cloud-bigquery`"
   ]
  },
  {
   "cell_type": "code",
   "execution_count": 122,
   "metadata": {},
   "outputs": [],
   "source": [
    "import numpy as np\n",
    "import pandas as pd\n",
    "import seaborn as sns\n",
    "import matplotlib.pyplot as plt\n"
   ]
  },
  {
   "cell_type": "code",
   "execution_count": 1,
   "metadata": {},
   "outputs": [],
   "source": [
    "import os\n",
    "os.environ[\"GOOGLE_APPLICATION_CREDENTIALS\"]=r\"C:\\Users\\i.betlei\\Desktop\\My Project 72349-d7a61c5e8ec0.json\""
   ]
  },
  {
   "cell_type": "code",
   "execution_count": 2,
   "metadata": {},
   "outputs": [],
   "source": [
    "import google.auth\n",
    "from google.cloud import bigquery\n",
    "from google.cloud import bigquery_storage\n",
    "\n",
    "credentials, your_project_id = google.auth.default(\n",
    "    scopes=[\"https://www.googleapis.com/auth/cloud-platform\"]\n",
    ")\n",
    "\n",
    "bqclient = bigquery.Client(credentials=credentials, project=your_project_id,)\n",
    "bqstorageclient = bigquery_storage.BigQueryReadClient(credentials=credentials)"
   ]
  },
  {
   "cell_type": "code",
   "execution_count": 6,
   "metadata": {},
   "outputs": [],
   "source": [
    "query_string = \"\"\"\n",
    "SELECT *  FROM `bigquery-public-data.iowa_liquor_sales.sales` \n",
    "\"\"\"\n",
    "tmp = bqclient.query(query_string)\n",
    "\n",
    "query_result = tmp.result() \n",
    "df = query_result.to_dataframe() "
   ]
  },
  {
   "cell_type": "code",
   "execution_count": 154,
   "metadata": {},
   "outputs": [
    {
     "data": {
      "text/plain": [
       "(19883996, 28)"
      ]
     },
     "execution_count": 154,
     "metadata": {},
     "output_type": "execute_result"
    }
   ],
   "source": [
    "df.shape"
   ]
  },
  {
   "cell_type": "code",
   "execution_count": 155,
   "metadata": {},
   "outputs": [
    {
     "data": {
      "text/html": [
       "<div>\n",
       "<style scoped>\n",
       "    .dataframe tbody tr th:only-of-type {\n",
       "        vertical-align: middle;\n",
       "    }\n",
       "\n",
       "    .dataframe tbody tr th {\n",
       "        vertical-align: top;\n",
       "    }\n",
       "\n",
       "    .dataframe thead th {\n",
       "        text-align: right;\n",
       "    }\n",
       "</style>\n",
       "<table border=\"1\" class=\"dataframe\">\n",
       "  <thead>\n",
       "    <tr style=\"text-align: right;\">\n",
       "      <th></th>\n",
       "      <th>invoice_and_item_number</th>\n",
       "      <th>date</th>\n",
       "      <th>store_number</th>\n",
       "      <th>store_name</th>\n",
       "      <th>address</th>\n",
       "      <th>city</th>\n",
       "      <th>zip_code</th>\n",
       "      <th>store_location</th>\n",
       "      <th>county_number</th>\n",
       "      <th>county</th>\n",
       "      <th>...</th>\n",
       "      <th>state_bottle_cost</th>\n",
       "      <th>state_bottle_retail</th>\n",
       "      <th>bottles_sold</th>\n",
       "      <th>sale_dollars</th>\n",
       "      <th>volume_sold_liters</th>\n",
       "      <th>volume_sold_gallons</th>\n",
       "      <th>profit</th>\n",
       "      <th>lat_and_long</th>\n",
       "      <th>day_of_week</th>\n",
       "      <th>year</th>\n",
       "    </tr>\n",
       "  </thead>\n",
       "  <tbody>\n",
       "    <tr>\n",
       "      <th>0</th>\n",
       "      <td>INV-10122700034</td>\n",
       "      <td>2018-01-31</td>\n",
       "      <td>2502</td>\n",
       "      <td>Hy-Vee Wine and Spirits / Ankeny</td>\n",
       "      <td>410 North Ankeny Blvd</td>\n",
       "      <td>Ankeny</td>\n",
       "      <td>50021</td>\n",
       "      <td>None</td>\n",
       "      <td>77</td>\n",
       "      <td>POLK</td>\n",
       "      <td>...</td>\n",
       "      <td>11.07</td>\n",
       "      <td>16.61</td>\n",
       "      <td>12</td>\n",
       "      <td>199.32</td>\n",
       "      <td>9.0</td>\n",
       "      <td>2.38</td>\n",
       "      <td>66.48</td>\n",
       "      <td>(None, None)</td>\n",
       "      <td>Wednesday</td>\n",
       "      <td>2018</td>\n",
       "    </tr>\n",
       "    <tr>\n",
       "      <th>1</th>\n",
       "      <td>INV-06181100009</td>\n",
       "      <td>2017-07-19</td>\n",
       "      <td>2637</td>\n",
       "      <td>Hy-Vee #5 / Davenport</td>\n",
       "      <td>2351 W Locust</td>\n",
       "      <td>Davenport</td>\n",
       "      <td>52804</td>\n",
       "      <td>POINT (-90.611972 41.538207)</td>\n",
       "      <td>82</td>\n",
       "      <td>SCOTT</td>\n",
       "      <td>...</td>\n",
       "      <td>11.07</td>\n",
       "      <td>16.61</td>\n",
       "      <td>12</td>\n",
       "      <td>199.32</td>\n",
       "      <td>9.0</td>\n",
       "      <td>2.38</td>\n",
       "      <td>66.48</td>\n",
       "      <td>(-90.611972, -90.611972)</td>\n",
       "      <td>Wednesday</td>\n",
       "      <td>2017</td>\n",
       "    </tr>\n",
       "    <tr>\n",
       "      <th>2</th>\n",
       "      <td>INV-03318800058</td>\n",
       "      <td>2017-02-16</td>\n",
       "      <td>2648</td>\n",
       "      <td>Hy-Vee #4 / Wdm</td>\n",
       "      <td>555 S 51st St</td>\n",
       "      <td>West Des Moines</td>\n",
       "      <td>50265</td>\n",
       "      <td>POINT (-93.773557 41.561197)</td>\n",
       "      <td>77</td>\n",
       "      <td>POLK</td>\n",
       "      <td>...</td>\n",
       "      <td>11.07</td>\n",
       "      <td>16.61</td>\n",
       "      <td>12</td>\n",
       "      <td>199.32</td>\n",
       "      <td>9.0</td>\n",
       "      <td>2.38</td>\n",
       "      <td>66.48</td>\n",
       "      <td>(-93.773557, -93.773557)</td>\n",
       "      <td>Thursday</td>\n",
       "      <td>2017</td>\n",
       "    </tr>\n",
       "    <tr>\n",
       "      <th>3</th>\n",
       "      <td>INV-03031500042</td>\n",
       "      <td>2017-02-01</td>\n",
       "      <td>3990</td>\n",
       "      <td>Cork and Bottle / Oskaloosa</td>\n",
       "      <td>309 A Ave West</td>\n",
       "      <td>Oskaloosa</td>\n",
       "      <td>52577</td>\n",
       "      <td>POINT (-92.648153 41.296228)</td>\n",
       "      <td>62</td>\n",
       "      <td>MAHASKA</td>\n",
       "      <td>...</td>\n",
       "      <td>5.50</td>\n",
       "      <td>8.25</td>\n",
       "      <td>24</td>\n",
       "      <td>198.00</td>\n",
       "      <td>9.0</td>\n",
       "      <td>2.38</td>\n",
       "      <td>66.00</td>\n",
       "      <td>(-92.648153, -92.648153)</td>\n",
       "      <td>Wednesday</td>\n",
       "      <td>2017</td>\n",
       "    </tr>\n",
       "    <tr>\n",
       "      <th>4</th>\n",
       "      <td>INV-09592700165</td>\n",
       "      <td>2018-01-03</td>\n",
       "      <td>2670</td>\n",
       "      <td>Hy-Vee Food Store / Coralville</td>\n",
       "      <td>2004 8th  St</td>\n",
       "      <td>Coralville</td>\n",
       "      <td>52241</td>\n",
       "      <td>POINT (-91.591868 41.682337000000004)</td>\n",
       "      <td>52</td>\n",
       "      <td>JOHNSON</td>\n",
       "      <td>...</td>\n",
       "      <td>11.07</td>\n",
       "      <td>16.61</td>\n",
       "      <td>12</td>\n",
       "      <td>199.32</td>\n",
       "      <td>9.0</td>\n",
       "      <td>2.38</td>\n",
       "      <td>66.48</td>\n",
       "      <td>(-91.591868, -91.591868)</td>\n",
       "      <td>Wednesday</td>\n",
       "      <td>2018</td>\n",
       "    </tr>\n",
       "  </tbody>\n",
       "</table>\n",
       "<p>5 rows × 28 columns</p>\n",
       "</div>"
      ],
      "text/plain": [
       "  invoice_and_item_number       date store_number  \\\n",
       "0         INV-10122700034 2018-01-31         2502   \n",
       "1         INV-06181100009 2017-07-19         2637   \n",
       "2         INV-03318800058 2017-02-16         2648   \n",
       "3         INV-03031500042 2017-02-01         3990   \n",
       "4         INV-09592700165 2018-01-03         2670   \n",
       "\n",
       "                         store_name                address             city  \\\n",
       "0  Hy-Vee Wine and Spirits / Ankeny  410 North Ankeny Blvd           Ankeny   \n",
       "1             Hy-Vee #5 / Davenport          2351 W Locust        Davenport   \n",
       "2                   Hy-Vee #4 / Wdm          555 S 51st St  West Des Moines   \n",
       "3       Cork and Bottle / Oskaloosa         309 A Ave West        Oskaloosa   \n",
       "4    Hy-Vee Food Store / Coralville           2004 8th  St       Coralville   \n",
       "\n",
       "  zip_code                         store_location county_number   county  ...  \\\n",
       "0    50021                                   None            77     POLK  ...   \n",
       "1    52804           POINT (-90.611972 41.538207)            82    SCOTT  ...   \n",
       "2    50265           POINT (-93.773557 41.561197)            77     POLK  ...   \n",
       "3    52577           POINT (-92.648153 41.296228)            62  MAHASKA  ...   \n",
       "4    52241  POINT (-91.591868 41.682337000000004)            52  JOHNSON  ...   \n",
       "\n",
       "  state_bottle_cost state_bottle_retail bottles_sold sale_dollars  \\\n",
       "0             11.07               16.61           12       199.32   \n",
       "1             11.07               16.61           12       199.32   \n",
       "2             11.07               16.61           12       199.32   \n",
       "3              5.50                8.25           24       198.00   \n",
       "4             11.07               16.61           12       199.32   \n",
       "\n",
       "  volume_sold_liters volume_sold_gallons  profit              lat_and_long  \\\n",
       "0                9.0                2.38   66.48              (None, None)   \n",
       "1                9.0                2.38   66.48  (-90.611972, -90.611972)   \n",
       "2                9.0                2.38   66.48  (-93.773557, -93.773557)   \n",
       "3                9.0                2.38   66.00  (-92.648153, -92.648153)   \n",
       "4                9.0                2.38   66.48  (-91.591868, -91.591868)   \n",
       "\n",
       "   day_of_week  year  \n",
       "0    Wednesday  2018  \n",
       "1    Wednesday  2017  \n",
       "2     Thursday  2017  \n",
       "3    Wednesday  2017  \n",
       "4    Wednesday  2018  \n",
       "\n",
       "[5 rows x 28 columns]"
      ]
     },
     "execution_count": 155,
     "metadata": {},
     "output_type": "execute_result"
    }
   ],
   "source": [
    "df.head()"
   ]
  },
  {
   "cell_type": "code",
   "execution_count": 158,
   "metadata": {},
   "outputs": [
    {
     "data": {
      "text/html": [
       "<div>\n",
       "<style scoped>\n",
       "    .dataframe tbody tr th:only-of-type {\n",
       "        vertical-align: middle;\n",
       "    }\n",
       "\n",
       "    .dataframe tbody tr th {\n",
       "        vertical-align: top;\n",
       "    }\n",
       "\n",
       "    .dataframe thead th {\n",
       "        text-align: right;\n",
       "    }\n",
       "</style>\n",
       "<table border=\"1\" class=\"dataframe\">\n",
       "  <thead>\n",
       "    <tr style=\"text-align: right;\">\n",
       "      <th></th>\n",
       "      <th>pack</th>\n",
       "      <th>bottle_volume_ml</th>\n",
       "      <th>state_bottle_cost</th>\n",
       "      <th>state_bottle_retail</th>\n",
       "      <th>bottles_sold</th>\n",
       "      <th>sale_dollars</th>\n",
       "      <th>volume_sold_liters</th>\n",
       "      <th>volume_sold_gallons</th>\n",
       "      <th>profit</th>\n",
       "      <th>year</th>\n",
       "    </tr>\n",
       "  </thead>\n",
       "  <tbody>\n",
       "    <tr>\n",
       "      <th>count</th>\n",
       "      <td>1.988400e+07</td>\n",
       "      <td>1.988400e+07</td>\n",
       "      <td>1.988400e+07</td>\n",
       "      <td>1.988400e+07</td>\n",
       "      <td>1.988400e+07</td>\n",
       "      <td>1.988400e+07</td>\n",
       "      <td>1.988400e+07</td>\n",
       "      <td>1.988400e+07</td>\n",
       "      <td>1.988400e+07</td>\n",
       "      <td>1.988400e+07</td>\n",
       "    </tr>\n",
       "    <tr>\n",
       "      <th>mean</th>\n",
       "      <td>1.227531e+01</td>\n",
       "      <td>9.106559e+02</td>\n",
       "      <td>9.947094e+00</td>\n",
       "      <td>1.493520e+01</td>\n",
       "      <td>1.033897e+01</td>\n",
       "      <td>1.352686e+02</td>\n",
       "      <td>9.137389e+00</td>\n",
       "      <td>2.412446e+00</td>\n",
       "      <td>4.521063e+01</td>\n",
       "      <td>2.016092e+03</td>\n",
       "    </tr>\n",
       "    <tr>\n",
       "      <th>std</th>\n",
       "      <td>7.671146e+00</td>\n",
       "      <td>6.632204e+02</td>\n",
       "      <td>1.073576e+01</td>\n",
       "      <td>1.610347e+01</td>\n",
       "      <td>2.807438e+01</td>\n",
       "      <td>4.702208e+02</td>\n",
       "      <td>3.377767e+01</td>\n",
       "      <td>8.923172e+00</td>\n",
       "      <td>1.571840e+02</td>\n",
       "      <td>2.555068e+00</td>\n",
       "    </tr>\n",
       "    <tr>\n",
       "      <th>min</th>\n",
       "      <td>1.000000e+00</td>\n",
       "      <td>0.000000e+00</td>\n",
       "      <td>0.000000e+00</td>\n",
       "      <td>0.000000e+00</td>\n",
       "      <td>0.000000e+00</td>\n",
       "      <td>0.000000e+00</td>\n",
       "      <td>0.000000e+00</td>\n",
       "      <td>0.000000e+00</td>\n",
       "      <td>-2.017200e+02</td>\n",
       "      <td>2.012000e+03</td>\n",
       "    </tr>\n",
       "    <tr>\n",
       "      <th>25%</th>\n",
       "      <td>6.000000e+00</td>\n",
       "      <td>7.500000e+02</td>\n",
       "      <td>5.500000e+00</td>\n",
       "      <td>8.250000e+00</td>\n",
       "      <td>3.000000e+00</td>\n",
       "      <td>3.150000e+01</td>\n",
       "      <td>1.500000e+00</td>\n",
       "      <td>4.000000e-01</td>\n",
       "      <td>1.050000e+01</td>\n",
       "      <td>2.014000e+03</td>\n",
       "    </tr>\n",
       "    <tr>\n",
       "      <th>50%</th>\n",
       "      <td>1.200000e+01</td>\n",
       "      <td>7.500000e+02</td>\n",
       "      <td>8.200000e+00</td>\n",
       "      <td>1.237000e+01</td>\n",
       "      <td>6.000000e+00</td>\n",
       "      <td>7.176000e+01</td>\n",
       "      <td>5.000000e+00</td>\n",
       "      <td>1.320000e+00</td>\n",
       "      <td>2.400000e+01</td>\n",
       "      <td>2.016000e+03</td>\n",
       "    </tr>\n",
       "    <tr>\n",
       "      <th>75%</th>\n",
       "      <td>1.200000e+01</td>\n",
       "      <td>1.000000e+03</td>\n",
       "      <td>1.205000e+01</td>\n",
       "      <td>1.808000e+01</td>\n",
       "      <td>1.200000e+01</td>\n",
       "      <td>1.395000e+02</td>\n",
       "      <td>1.050000e+01</td>\n",
       "      <td>2.770000e+00</td>\n",
       "      <td>4.680000e+01</td>\n",
       "      <td>2.018000e+03</td>\n",
       "    </tr>\n",
       "    <tr>\n",
       "      <th>max</th>\n",
       "      <td>3.360000e+02</td>\n",
       "      <td>3.780000e+05</td>\n",
       "      <td>7.680000e+03</td>\n",
       "      <td>1.152000e+04</td>\n",
       "      <td>1.500000e+04</td>\n",
       "      <td>2.795573e+05</td>\n",
       "      <td>1.500000e+04</td>\n",
       "      <td>3.962580e+03</td>\n",
       "      <td>9.322560e+04</td>\n",
       "      <td>2.020000e+03</td>\n",
       "    </tr>\n",
       "  </tbody>\n",
       "</table>\n",
       "</div>"
      ],
      "text/plain": [
       "               pack  bottle_volume_ml  state_bottle_cost  state_bottle_retail  \\\n",
       "count  1.988400e+07      1.988400e+07       1.988400e+07         1.988400e+07   \n",
       "mean   1.227531e+01      9.106559e+02       9.947094e+00         1.493520e+01   \n",
       "std    7.671146e+00      6.632204e+02       1.073576e+01         1.610347e+01   \n",
       "min    1.000000e+00      0.000000e+00       0.000000e+00         0.000000e+00   \n",
       "25%    6.000000e+00      7.500000e+02       5.500000e+00         8.250000e+00   \n",
       "50%    1.200000e+01      7.500000e+02       8.200000e+00         1.237000e+01   \n",
       "75%    1.200000e+01      1.000000e+03       1.205000e+01         1.808000e+01   \n",
       "max    3.360000e+02      3.780000e+05       7.680000e+03         1.152000e+04   \n",
       "\n",
       "       bottles_sold  sale_dollars  volume_sold_liters  volume_sold_gallons  \\\n",
       "count  1.988400e+07  1.988400e+07        1.988400e+07         1.988400e+07   \n",
       "mean   1.033897e+01  1.352686e+02        9.137389e+00         2.412446e+00   \n",
       "std    2.807438e+01  4.702208e+02        3.377767e+01         8.923172e+00   \n",
       "min    0.000000e+00  0.000000e+00        0.000000e+00         0.000000e+00   \n",
       "25%    3.000000e+00  3.150000e+01        1.500000e+00         4.000000e-01   \n",
       "50%    6.000000e+00  7.176000e+01        5.000000e+00         1.320000e+00   \n",
       "75%    1.200000e+01  1.395000e+02        1.050000e+01         2.770000e+00   \n",
       "max    1.500000e+04  2.795573e+05        1.500000e+04         3.962580e+03   \n",
       "\n",
       "             profit          year  \n",
       "count  1.988400e+07  1.988400e+07  \n",
       "mean   4.521063e+01  2.016092e+03  \n",
       "std    1.571840e+02  2.555068e+00  \n",
       "min   -2.017200e+02  2.012000e+03  \n",
       "25%    1.050000e+01  2.014000e+03  \n",
       "50%    2.400000e+01  2.016000e+03  \n",
       "75%    4.680000e+01  2.018000e+03  \n",
       "max    9.322560e+04  2.020000e+03  "
      ]
     },
     "execution_count": 158,
     "metadata": {},
     "output_type": "execute_result"
    }
   ],
   "source": [
    "df.describe()"
   ]
  },
  {
   "cell_type": "code",
   "execution_count": 159,
   "metadata": {},
   "outputs": [
    {
     "data": {
      "text/plain": [
       "invoice_and_item_number            object\n",
       "date                       datetime64[ns]\n",
       "store_number                       object\n",
       "store_name                         object\n",
       "address                            object\n",
       "city                               object\n",
       "zip_code                           object\n",
       "store_location                     object\n",
       "county_number                      object\n",
       "county                             object\n",
       "category                           object\n",
       "category_name                      object\n",
       "vendor_number                      object\n",
       "vendor_name                        object\n",
       "item_number                        object\n",
       "item_description                   object\n",
       "pack                                int64\n",
       "bottle_volume_ml                    int64\n",
       "state_bottle_cost                 float64\n",
       "state_bottle_retail               float64\n",
       "bottles_sold                        int64\n",
       "sale_dollars                      float64\n",
       "volume_sold_liters                float64\n",
       "volume_sold_gallons               float64\n",
       "profit                            float64\n",
       "lat_and_long                       object\n",
       "day_of_week                      category\n",
       "year                                int64\n",
       "dtype: object"
      ]
     },
     "execution_count": 159,
     "metadata": {},
     "output_type": "execute_result"
    }
   ],
   "source": [
    "df.dtypes"
   ]
  },
  {
   "cell_type": "code",
   "execution_count": 160,
   "metadata": {},
   "outputs": [
    {
     "data": {
      "text/plain": [
       "invoice_and_item_number          0\n",
       "date                             0\n",
       "store_number                     0\n",
       "store_name                       0\n",
       "address                      79927\n",
       "city                         79926\n",
       "zip_code                     79971\n",
       "store_location             1907069\n",
       "county_number               156731\n",
       "county                      156729\n",
       "category                     16974\n",
       "category_name                25040\n",
       "vendor_number                    5\n",
       "vendor_name                      3\n",
       "item_number                      0\n",
       "item_description                 0\n",
       "pack                             0\n",
       "bottle_volume_ml                 0\n",
       "state_bottle_cost                0\n",
       "state_bottle_retail              0\n",
       "bottles_sold                     0\n",
       "sale_dollars                     0\n",
       "volume_sold_liters               0\n",
       "volume_sold_gallons              0\n",
       "profit                           0\n",
       "lat_and_long                     0\n",
       "day_of_week                      0\n",
       "year                             0\n",
       "dtype: int64"
      ]
     },
     "execution_count": 160,
     "metadata": {},
     "output_type": "execute_result"
    }
   ],
   "source": [
    "df.isnull().sum()"
   ]
  },
  {
   "cell_type": "code",
   "execution_count": 161,
   "metadata": {},
   "outputs": [],
   "source": [
    "df = df.dropna(subset=['sale_dollars'])"
   ]
  },
  {
   "cell_type": "markdown",
   "metadata": {},
   "source": [
    "#### 1. Profit and margin"
   ]
  },
  {
   "cell_type": "code",
   "execution_count": 162,
   "metadata": {},
   "outputs": [],
   "source": [
    "# df['profit'] = (df['state_bottle_retail'] - df['state_bottle_cost']) * df['bottles_sold']\n",
    "df['profit'] = (np.array(df['state_bottle_retail']) - np.array(df['state_bottle_cost'])) * np.array(df['bottles_sold'])\n"
   ]
  },
  {
   "cell_type": "code",
   "execution_count": 163,
   "metadata": {},
   "outputs": [
    {
     "data": {
      "image/png": "[encoded data removed]",
      "text/plain": [
       "<Figure size 432x432 with 3 Axes>"
      ]
     },
     "metadata": {
      "needs_background": "light"
     },
     "output_type": "display_data"
    }
   ],
   "source": [
    "sns.jointplot(x=df['profit'], y=df['sale_dollars'], kind='scatter')\n",
    "plt.show()"
   ]
  },
  {
   "cell_type": "markdown",
   "metadata": {},
   "source": [
    "    Margin:"
   ]
  },
  {
   "cell_type": "code",
   "execution_count": 164,
   "metadata": {},
   "outputs": [
    {
     "name": "stdout",
     "output_type": "stream",
     "text": [
      "33.42 % \n"
     ]
    }
   ],
   "source": [
    "print(round(df['profit'].sum() / df['sale_dollars'].sum() * 100, 2), '% ')"
   ]
  },
  {
   "cell_type": "markdown",
   "metadata": {},
   "source": [
    "####  2. Parse store_location"
   ]
  },
  {
   "cell_type": "code",
   "execution_count": 165,
   "metadata": {},
   "outputs": [],
   "source": [
    "def lat_and_long(el):\n",
    "    \"\"\"divides the tape into two elements, longitude and latitude\"\"\"\n",
    "    \n",
    "    if el == None:\n",
    "        return None, None\n",
    "    \n",
    "    first_par = el.find('(')\n",
    "    second_par = el.find(')')\n",
    "    res = el[first_par+1:second_par].split()\n",
    "    \n",
    "    return res[0], res[0]"
   ]
  },
  {
   "cell_type": "code",
   "execution_count": 166,
   "metadata": {},
   "outputs": [],
   "source": [
    "df['lat_and_long'] = df['store_location'].map(lat_and_long)"
   ]
  },
  {
   "cell_type": "markdown",
   "metadata": {},
   "source": [
    "#### 3. Time Series Analysis"
   ]
  },
  {
   "cell_type": "code",
   "execution_count": 167,
   "metadata": {},
   "outputs": [],
   "source": [
    "df['date'] = pd.to_datetime(df['date'])\n",
    "\n",
    "\n",
    "df_timeseries = df.groupby('date')['sale_dollars'].sum().reset_index()\n",
    "df_timeseries = df_timeseries.set_index('date')"
   ]
  },
  {
   "cell_type": "code",
   "execution_count": 168,
   "metadata": {},
   "outputs": [
    {
     "data": {
      "text/plain": [
       "<matplotlib.axes._subplots.AxesSubplot at 0x17cd6f3c1c8>"
      ]
     },
     "execution_count": 168,
     "metadata": {},
     "output_type": "execute_result"
    },
    {
     "data": {
      "image/png": "[encoded data removed]",
      "text/plain": [
       "<Figure size 432x288 with 1 Axes>"
      ]
     },
     "metadata": {
      "needs_background": "light"
     },
     "output_type": "display_data"
    }
   ],
   "source": [
    "y = df_timeseries['sale_dollars'].resample('MS').mean()\n",
    "\n",
    "y.plot()"
   ]
  },
  {
   "cell_type": "markdown",
   "metadata": {},
   "source": [
    "#### 4. Bottle sold by day of week"
   ]
  },
  {
   "cell_type": "code",
   "execution_count": 169,
   "metadata": {},
   "outputs": [
    {
     "data": {
      "text/plain": [
       "<matplotlib.axes._subplots.AxesSubplot at 0x17d1a905c48>"
      ]
     },
     "execution_count": 169,
     "metadata": {},
     "output_type": "execute_result"
    },
    {
     "data": {
      "image/png": "[encoded data removed]",
      "text/plain": [
       "<Figure size 432x288 with 1 Axes>"
      ]
     },
     "metadata": {
      "needs_background": "light"
     },
     "output_type": "display_data"
    }
   ],
   "source": [
    "df['day_of_week'] = df['date'].dt.day_name()\n",
    "df['day_of_week'] = pd.Categorical(df['day_of_week'], categories=\n",
    "    ['Monday','Tuesday','Wednesday','Thursday','Friday','Saturday', 'Sunday'],\n",
    "    ordered=True)\n",
    "\n",
    "\n",
    "df.groupby('day_of_week')['invoice_and_item_number'].count().plot(kind=\"bar\")"
   ]
  },
  {
   "cell_type": "markdown",
   "metadata": {},
   "source": [
    "#### 5. Max parameters"
   ]
  },
  {
   "cell_type": "code",
   "execution_count": 170,
   "metadata": {},
   "outputs": [],
   "source": [
    "res = df.groupby(['city']).agg({'sale_dollars': ['mean', 'sum'], 'pack':['sum']}).reset_index()"
   ]
  },
  {
   "cell_type": "markdown",
   "metadata": {},
   "source": [
    "    The city that makes the biggest sales:"
   ]
  },
  {
   "cell_type": "code",
   "execution_count": 171,
   "metadata": {},
   "outputs": [
    {
     "data": {
      "text/plain": [
       "211    Des Moines\n",
       "Name: city, dtype: object"
      ]
     },
     "execution_count": 171,
     "metadata": {},
     "output_type": "execute_result"
    }
   ],
   "source": [
    "res[res['sale_dollars']['sum'] == max(res['sale_dollars']['sum'])].city"
   ]
  },
  {
   "cell_type": "markdown",
   "metadata": {},
   "source": [
    "    The city with the largest average check:"
   ]
  },
  {
   "cell_type": "code",
   "execution_count": 172,
   "metadata": {},
   "outputs": [
    {
     "data": {
      "text/plain": [
       "242    Earling\n",
       "Name: city, dtype: object"
      ]
     },
     "execution_count": 172,
     "metadata": {},
     "output_type": "execute_result"
    }
   ],
   "source": [
    "res[res['sale_dollars']['mean'] == max(res['sale_dollars']['mean'])].city"
   ]
  },
  {
   "cell_type": "markdown",
   "metadata": {},
   "source": [
    "#### 6. Pivot table by county"
   ]
  },
  {
   "cell_type": "code",
   "execution_count": 173,
   "metadata": {},
   "outputs": [
    {
     "data": {
      "text/plain": [
       "Index(['invoice_and_item_number', 'date', 'store_number', 'store_name',\n",
       "       'address', 'city', 'zip_code', 'store_location', 'county_number',\n",
       "       'county', 'category', 'category_name', 'vendor_number', 'vendor_name',\n",
       "       'item_number', 'item_description', 'pack', 'bottle_volume_ml',\n",
       "       'state_bottle_cost', 'state_bottle_retail', 'bottles_sold',\n",
       "       'sale_dollars', 'volume_sold_liters', 'volume_sold_gallons', 'profit',\n",
       "       'lat_and_long', 'day_of_week', 'year'],\n",
       "      dtype='object')"
      ]
     },
     "execution_count": 173,
     "metadata": {},
     "output_type": "execute_result"
    }
   ],
   "source": [
    "df.columns"
   ]
  },
  {
   "cell_type": "code",
   "execution_count": 174,
   "metadata": {},
   "outputs": [],
   "source": [
    "res = df.groupby('county').agg({'sale_dollars': ['mean', 'sum'],\n",
    "                          'pack' : ['sum'],\n",
    "                          'volume_sold_liters' : ['sum'],\n",
    "                          'bottles_sold' : ['sum']}).reset_index()"
   ]
  },
  {
   "cell_type": "code",
   "execution_count": 175,
   "metadata": {},
   "outputs": [
    {
     "data": {
      "text/html": [
       "<div>\n",
       "<style scoped>\n",
       "    .dataframe tbody tr th:only-of-type {\n",
       "        vertical-align: middle;\n",
       "    }\n",
       "\n",
       "    .dataframe tbody tr th {\n",
       "        vertical-align: top;\n",
       "    }\n",
       "\n",
       "    .dataframe thead tr th {\n",
       "        text-align: left;\n",
       "    }\n",
       "</style>\n",
       "<table border=\"1\" class=\"dataframe\">\n",
       "  <thead>\n",
       "    <tr>\n",
       "      <th></th>\n",
       "      <th>county</th>\n",
       "      <th colspan=\"2\" halign=\"left\">sale_dollars</th>\n",
       "      <th>pack</th>\n",
       "      <th>volume_sold_liters</th>\n",
       "      <th>bottles_sold</th>\n",
       "    </tr>\n",
       "    <tr>\n",
       "      <th></th>\n",
       "      <th></th>\n",
       "      <th>mean</th>\n",
       "      <th>sum</th>\n",
       "      <th>sum</th>\n",
       "      <th>sum</th>\n",
       "      <th>sum</th>\n",
       "    </tr>\n",
       "  </thead>\n",
       "  <tbody>\n",
       "    <tr>\n",
       "      <th>0</th>\n",
       "      <td>ADAIR</td>\n",
       "      <td>99.334765</td>\n",
       "      <td>1.196388e+06</td>\n",
       "      <td>138838</td>\n",
       "      <td>84963.05</td>\n",
       "      <td>97257</td>\n",
       "    </tr>\n",
       "    <tr>\n",
       "      <th>1</th>\n",
       "      <td>ADAMS</td>\n",
       "      <td>63.658061</td>\n",
       "      <td>4.641309e+05</td>\n",
       "      <td>83616</td>\n",
       "      <td>30897.70</td>\n",
       "      <td>33041</td>\n",
       "    </tr>\n",
       "    <tr>\n",
       "      <th>2</th>\n",
       "      <td>ALLAMAKEE</td>\n",
       "      <td>96.973375</td>\n",
       "      <td>3.958841e+06</td>\n",
       "      <td>463582</td>\n",
       "      <td>303398.38</td>\n",
       "      <td>283165</td>\n",
       "    </tr>\n",
       "    <tr>\n",
       "      <th>3</th>\n",
       "      <td>APPANOOSE</td>\n",
       "      <td>122.909540</td>\n",
       "      <td>4.127179e+06</td>\n",
       "      <td>381781</td>\n",
       "      <td>286005.64</td>\n",
       "      <td>314518</td>\n",
       "    </tr>\n",
       "    <tr>\n",
       "      <th>4</th>\n",
       "      <td>AUDUBON</td>\n",
       "      <td>71.127804</td>\n",
       "      <td>7.597872e+05</td>\n",
       "      <td>115184</td>\n",
       "      <td>61487.76</td>\n",
       "      <td>64709</td>\n",
       "    </tr>\n",
       "    <tr>\n",
       "      <th>...</th>\n",
       "      <td>...</td>\n",
       "      <td>...</td>\n",
       "      <td>...</td>\n",
       "      <td>...</td>\n",
       "      <td>...</td>\n",
       "      <td>...</td>\n",
       "    </tr>\n",
       "    <tr>\n",
       "      <th>196</th>\n",
       "      <td>Winnebago</td>\n",
       "      <td>94.616991</td>\n",
       "      <td>3.217262e+06</td>\n",
       "      <td>377632</td>\n",
       "      <td>268775.61</td>\n",
       "      <td>258046</td>\n",
       "    </tr>\n",
       "    <tr>\n",
       "      <th>197</th>\n",
       "      <td>Winneshiek</td>\n",
       "      <td>110.057675</td>\n",
       "      <td>6.120637e+06</td>\n",
       "      <td>580777</td>\n",
       "      <td>469033.37</td>\n",
       "      <td>447486</td>\n",
       "    </tr>\n",
       "    <tr>\n",
       "      <th>198</th>\n",
       "      <td>Woodbury</td>\n",
       "      <td>147.518054</td>\n",
       "      <td>4.252060e+07</td>\n",
       "      <td>3554380</td>\n",
       "      <td>2943823.74</td>\n",
       "      <td>3278647</td>\n",
       "    </tr>\n",
       "    <tr>\n",
       "      <th>199</th>\n",
       "      <td>Worth</td>\n",
       "      <td>81.661965</td>\n",
       "      <td>1.033024e+06</td>\n",
       "      <td>140442</td>\n",
       "      <td>86058.50</td>\n",
       "      <td>82797</td>\n",
       "    </tr>\n",
       "    <tr>\n",
       "      <th>200</th>\n",
       "      <td>Wright</td>\n",
       "      <td>98.674812</td>\n",
       "      <td>2.735660e+06</td>\n",
       "      <td>303452</td>\n",
       "      <td>225298.53</td>\n",
       "      <td>220725</td>\n",
       "    </tr>\n",
       "  </tbody>\n",
       "</table>\n",
       "<p>201 rows × 6 columns</p>\n",
       "</div>"
      ],
      "text/plain": [
       "         county sale_dollars                   pack volume_sold_liters  \\\n",
       "                        mean           sum      sum                sum   \n",
       "0         ADAIR    99.334765  1.196388e+06   138838           84963.05   \n",
       "1         ADAMS    63.658061  4.641309e+05    83616           30897.70   \n",
       "2     ALLAMAKEE    96.973375  3.958841e+06   463582          303398.38   \n",
       "3     APPANOOSE   122.909540  4.127179e+06   381781          286005.64   \n",
       "4       AUDUBON    71.127804  7.597872e+05   115184           61487.76   \n",
       "..          ...          ...           ...      ...                ...   \n",
       "196   Winnebago    94.616991  3.217262e+06   377632          268775.61   \n",
       "197  Winneshiek   110.057675  6.120637e+06   580777          469033.37   \n",
       "198    Woodbury   147.518054  4.252060e+07  3554380         2943823.74   \n",
       "199       Worth    81.661965  1.033024e+06   140442           86058.50   \n",
       "200      Wright    98.674812  2.735660e+06   303452          225298.53   \n",
       "\n",
       "    bottles_sold  \n",
       "             sum  \n",
       "0          97257  \n",
       "1          33041  \n",
       "2         283165  \n",
       "3         314518  \n",
       "4          64709  \n",
       "..           ...  \n",
       "196       258046  \n",
       "197       447486  \n",
       "198      3278647  \n",
       "199        82797  \n",
       "200       220725  \n",
       "\n",
       "[201 rows x 6 columns]"
      ]
     },
     "execution_count": 175,
     "metadata": {},
     "output_type": "execute_result"
    }
   ],
   "source": [
    "res"
   ]
  }
 ],
 "metadata": {
  "kernelspec": {
   "display_name": "Python 3",
   "language": "python",
   "name": "python3"
  },
  "language_info": {
   "codemirror_mode": {
    "name": "ipython",
    "version": 3
   },
   "file_extension": ".py",
   "mimetype": "text/x-python",
   "name": "python",
   "nbconvert_exporter": "python",
   "pygments_lexer": "ipython3",
   "version": "3.7.6"
  }
 },
 "nbformat": 4,
 "nbformat_minor": 4
}
